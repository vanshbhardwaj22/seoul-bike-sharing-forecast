{
 "cells": [
  {
   "cell_type": "markdown",
   "id": "dc45cc1b",
   "metadata": {},
   "source": [
    "### Importing Libraries"
   ]
  },
  {
   "cell_type": "code",
   "execution_count": 1,
   "id": "5913c55c",
   "metadata": {},
   "outputs": [],
   "source": [
    "import pickle\n",
    "import os\n",
    "import pandas as pd\n",
    "import numpy as np\n",
    "import requests # Import the requests library\n",
    "from datetime import datetime \n",
    "import pytz"
   ]
  },
  {
   "cell_type": "markdown",
   "id": "fe8aa27c",
   "metadata": {},
   "source": [
    "### Loading the model"
   ]
  },
  {
   "cell_type": "code",
   "execution_count": 2,
   "id": "b13d14c9",
   "metadata": {},
   "outputs": [
    {
     "name": "stdout",
     "output_type": "stream",
     "text": [
      "Model and StandardScaler loaded successfully.\n"
     ]
    },
    {
     "name": "stderr",
     "output_type": "stream",
     "text": [
      "C:\\Users\\Asus\\Anaconda3\\Lib\\site-packages\\sklearn\\base.py:442: InconsistentVersionWarning: Trying to unpickle estimator StandardScaler from version 1.2.2 when using version 1.7.1. This might lead to breaking code or invalid results. Use at your own risk. For more info please refer to:\n",
      "https://scikit-learn.org/stable/model_persistence.html#security-maintainability-limitations\n",
      "  warnings.warn(\n"
     ]
    }
   ],
   "source": [
    "model_path = r\"C:\\Users\\Asus\\Desktop\\College Projects\\Seoul Bike Prediction Project\\models\\XGBoost_Regressor_r2_0_929_v1.pkl\"\n",
    "sc_dump_path = r\"C:\\Users\\Asus\\Desktop\\College Projects\\Seoul Bike Prediction Project\\models\\sc.pkl\"\n",
    "\n",
    "try:\n",
    "    model = pickle.load(open(model_path, \"rb\"))\n",
    "    SC = pickle.load(open(sc_dump_path, \"rb\"))\n",
    "    print(\"Model and StandardScaler loaded successfully.\")\n",
    "except FileNotFoundError:\n",
    "    print(f\"Error: Model or StandardScaler file not found at specified paths.\")\n",
    "    print(\"Please ensure the paths are correct and the files exist.\")\n",
    "except Exception as e:\n",
    "    print(f\"An error occurred while loading the model or scaler: {e}\")"
   ]
  },
  {
   "cell_type": "markdown",
   "id": "33e416f5",
   "metadata": {
    "scrolled": true
   },
   "source": [
    "### Define User Input Data Example"
   ]
  },
  {
   "cell_type": "code",
   "execution_count": 3,
   "id": "4ecb353d",
   "metadata": {},
   "outputs": [],
   "source": [
    "Date = \"26/07/2023\"\n",
    "Hour = 5\n",
    "Temperature = 25\n",
    "Humidity = 97\n",
    "Wind_speed = 1.11111111\n",
    "Visibility = 20\n",
    "Solar_Radiation = 1.0\n",
    "Rainfall = 2\n",
    "Snowfall = 0\n",
    "Seasons = \"Summer\"\n",
    "Holiday = \"No Holiday\"\n",
    "Functioning_Day = \"Yes\""
   ]
  },
  {
   "cell_type": "markdown",
   "id": "c848143c",
   "metadata": {},
   "source": [
    "### Helper Functions for Data Transformation"
   ]
  },
  {
   "cell_type": "code",
   "execution_count": 4,
   "id": "bcedfeea",
   "metadata": {},
   "outputs": [],
   "source": [
    "Holiday_dict = {\"Holiday\": 1, \"No Holiday\": 0}\n",
    "Functioning_Day_dict = {\"Yes\": 1, \"No\": 0}\n",
    "\n",
    "def get_string_to_datetime(date):\n",
    "    dt = datetime.strptime(date, \"%d/%m/%Y\")\n",
    "    return {\"Day\": dt.day, \"Month\": dt.month, \"Year\": dt.year, \"Weekdays\": dt.strftime(\"%A\")}\n",
    "\n",
    "def season_to_Df(selected_season):\n",
    "    seasons_cols = ['Autumn', 'Spring', 'Summer', 'Winter']\n",
    "    seasons_data = np.zeros((1, len(seasons_cols)), dtype=\"int\")\n",
    "    df_seasons = pd.DataFrame(seasons_data, columns=seasons_cols)\n",
    "    if selected_season in seasons_cols:\n",
    "        df_seasons[selected_season] = 1\n",
    "    return df_seasons\n",
    "\n",
    "def Day_to_Df(selected_weekday):\n",
    "    name_days = ['Friday', 'Monday', 'Saturday', 'Sunday', 'Thursday', 'Tuesday', 'Wednesday']\n",
    "    name_days_data = np.zeros((1, len(name_days)), dtype=\"int\")\n",
    "    df_days = pd.DataFrame(name_days_data, columns=name_days)\n",
    "    if selected_weekday in name_days:\n",
    "        df_days[selected_weekday] = 1\n",
    "    return df_days"
   ]
  },
  {
   "cell_type": "markdown",
   "id": "549b44c4",
   "metadata": {},
   "source": [
    "### Process User Input"
   ]
  },
  {
   "cell_type": "code",
   "execution_count": 5,
   "id": "3a5f8790",
   "metadata": {
    "scrolled": true
   },
   "outputs": [
    {
     "name": "stdout",
     "output_type": "stream",
     "text": [
      "No. of Bike Rented on 26/07/2023 at 5 is : 583\n"
     ]
    }
   ],
   "source": [
    "date_time_data = get_string_to_datetime(Date)\n",
    "\n",
    "user_input_list = [\n",
    "    Hour, Temperature, Humidity, Wind_speed, Visibility, Solar_Radiation, Rainfall, Snowfall,\n",
    "    Holiday_dict[Holiday], Functioning_Day_dict[Functioning_Day],\n",
    "    date_time_data[\"Day\"], date_time_data[\"Month\"], date_time_data[\"Year\"]\n",
    "]\n",
    "\n",
    "feature_name = [\n",
    "    'Hour', 'Temperature(°C)', 'Humidity(%)', 'Wind speed (m/s)', 'Visibility (10m)',\n",
    "    'Solar Radiation (MJ/m2)', 'Rainfall(mm)', 'Snowfall (cm)', 'Holiday', 'Functioning Day',\n",
    "    'Day', 'Month', 'Year'\n",
    "]\n",
    "\n",
    "df_user_input = pd.DataFrame([user_input_list], columns=feature_name)\n",
    "df_seasons = season_to_Df(Seasons)\n",
    "df_Weekdays = Day_to_Df(date_time_data[\"Weekdays\"])\n",
    "\n",
    "# Concatenate all features into a single DataFrame for prediction\n",
    "df_user_pred = pd.concat([df_user_input, df_seasons, df_Weekdays], axis=1)\n",
    "\n",
    "# Ensure the column order matches the training data features\n",
    "# This is crucial for correct predictions, so explicitly define the order if possible\n",
    "# (You would get the exact order from your training script)\n",
    "expected_feature_order = [\n",
    "    'Hour', 'Temperature(°C)', 'Humidity(%)', 'Wind speed (m/s)', 'Visibility (10m)',\n",
    "    'Solar Radiation (MJ/m2)', 'Rainfall(mm)', 'Snowfall (cm)', 'Holiday', 'Functioning Day',\n",
    "    'Day', 'Month', 'Year', 'Autumn', 'Spring', 'Summer', 'Winter', 'Friday', 'Monday',\n",
    "    'Saturday', 'Sunday', 'Thursday', 'Tuesday', 'Wednesday'\n",
    "]\n",
    "\n",
    "# Reindex to ensure correct column order, filling missing columns with 0 if necessary\n",
    "# This handles cases where a season/weekday might not be present in a single input but was in training\n",
    "df_user_pred = df_user_pred.reindex(columns=expected_feature_order, fill_value=0)\n",
    "\n",
    "\n",
    "# --- 5. Scale the Input Data ---\n",
    "# Corrected: Using SC instead of sc\n",
    "if 'SC' in locals() and SC is not None:\n",
    "    sc_user_pred = SC.transform(df_user_pred)\n",
    "    # print(\"Scaled User Input:\", sc_user_pred) # Uncomment to see the scaled input\n",
    "\n",
    "    # --- 6. Make Prediction ---\n",
    "    if 'model' in locals() and model is not None:\n",
    "        prediction = model.predict(sc_user_pred).tolist()[0]\n",
    "        print(f\"No. of Bike Rented on {Date} at {Hour} is : {round(prediction)}\")\n",
    "    else:\n",
    "        print(\"Model not loaded. Cannot make prediction.\")\n",
    "else:\n",
    "    print(\"StandardScaler not loaded. Cannot scale data for prediction.\")"
   ]
  },
  {
   "cell_type": "markdown",
   "id": "d64935c2",
   "metadata": {},
   "source": [
    "### Encapsulated Inference Function With Real Data"
   ]
  },
  {
   "cell_type": "code",
   "execution_count": 6,
   "id": "449a7726",
   "metadata": {},
   "outputs": [],
   "source": [
    "def get_current_weather_data(city_name=\"Seoul\", api_key=\"YOUR_WEATHERAPI_COM_API_KEY\"):\n",
    "    \"\"\"\n",
    "    Fetches current weather data for a given city from WeatherAPI.com.\n",
    "    \"\"\"\n",
    "    base_url = \"http://api.weatherapi.com/v1/current.json\"\n",
    "    params = {\n",
    "        \"key\": api_key,\n",
    "        \"q\": city_name,\n",
    "        \"aqi\": \"no\"\n",
    "    }\n",
    "\n",
    "    try:\n",
    "        response = requests.get(base_url, params=params)\n",
    "        response.raise_for_status()\n",
    "        data = response.json()\n",
    "\n",
    "        if \"current\" in data:\n",
    "            current_data = data[\"current\"]\n",
    "            \n",
    "            temperature = current_data.get(\"temp_c\")\n",
    "            humidity = current_data.get(\"humidity\")\n",
    "            wind_kph = current_data.get(\"wind_kph\")\n",
    "            wind_speed_ms = wind_kph * 0.277778 if wind_kph is not None else 0.0\n",
    "\n",
    "            rainfall = current_data.get(\"precip_mm\", 0)\n",
    "            snowfall = 0.0 # Placeholder for snowfall\n",
    "\n",
    "            visibility_km = current_data.get(\"vis_km\")\n",
    "            visibility_10m = (visibility_km * 1000) / 10 if visibility_km is not None else 1000\n",
    "\n",
    "            solar_radiation = 0.0 # Placeholder for solar radiation\n",
    "\n",
    "            return {\n",
    "                \"Temperature\": temperature,\n",
    "                \"Humidity\": humidity,\n",
    "                \"Wind_speed\": wind_speed_ms,\n",
    "                \"Visibility\": visibility_10m,\n",
    "                \"Solar_Radiation\": solar_radiation,\n",
    "                \"Rainfall\": rainfall,\n",
    "                \"Snowfall\": snowfall,\n",
    "            }\n",
    "        else:\n",
    "            print(f\"Weather data: No 'current' data found in response for '{city_name}'.\")\n",
    "            return None\n",
    "    except requests.exceptions.RequestException as e:\n",
    "        print(f\"Error fetching weather data: {e}\")\n",
    "        return None\n",
    "    except Exception as e:\n",
    "        print(f\"An unexpected error occurred during weather data processing: {e}\")\n",
    "        return None\n",
    "\n",
    "# --- predict_bike_demand function (ensure this function definition is also at the top level) ---\n",
    "def predict_bike_demand(\n",
    "    # Ensure all these lines are indented by EXACTLY 4 spaces from 'def predict_bike_demand('\n",
    "    date_str: str = datetime.now().strftime(\"%d/%m/%Y\"),\n",
    "    hour: int = datetime.now().hour,\n",
    "    season: str = None,\n",
    "    holiday_status: str = \"No Holiday\",\n",
    "    functioning_day_status: str = \"Yes\",\n",
    "    model_dir: str = r\"C:\\Users\\Asus\\Desktop\\College Projects\\Seoul Bike Prediction Project\\models\\\\\",\n",
    "    city_for_weather: str = \"Seoul\",\n",
    "    weatherapi_com_api_key: str = \"b7d885329c5e4b149af64415252807\" # Your API key\n",
    ") -> int:\n",
    "    model = None\n",
    "    SC = None\n",
    "\n",
    "    model_path = os.path.join(model_dir, \"XGBoost_Regressor_r2_0_929_v1.pkl\")\n",
    "    sc_dump_path = os.path.join(model_dir, \"sc.pkl\")\n",
    "\n",
    "    try:\n",
    "        model = pickle.load(open(model_path, \"rb\"))\n",
    "        SC = pickle.load(open(sc_dump_path, \"rb\"))\n",
    "    except FileNotFoundError:\n",
    "        print(f\"Error: Model or StandardScaler file not found in {model_dir}.\")\n",
    "        print(\"Please ensure the path is correct and the files exist.\")\n",
    "        return -1\n",
    "    except Exception as e:\n",
    "        print(f\"An error occurred while loading the model or scaler: {e}\")\n",
    "        return -1\n",
    "\n",
    "    # --- Fetch Weather Data Dynamically ---\n",
    "    weather_data = get_current_weather_data(city_for_weather, weatherapi_com_api_key)\n",
    "    if weather_data is None:\n",
    "        print(\"Failed to get current weather data. Cannot make prediction.\")\n",
    "        return -1\n",
    "\n",
    "    Temperature = weather_data[\"Temperature\"]\n",
    "    Humidity = weather_data[\"Humidity\"]\n",
    "    Wind_speed = weather_data[\"Wind_speed\"]\n",
    "    Visibility = weather_data[\"Visibility\"]\n",
    "    Solar_Radiation = weather_data[\"Solar_Radiation\"]\n",
    "    Rainfall = weather_data[\"Rainfall\"]\n",
    "    Snowfall = weather_data[\"Snowfall\"]\n",
    "\n",
    "    holiday_dict = {\"Holiday\": 1, \"No Holiday\": 0}\n",
    "    functioning_day_dict = {\"Yes\": 1, \"No\": 0}\n",
    "\n",
    "    def get_string_to_datetime(date):\n",
    "        dt = datetime.strptime(date, \"%d/%m/%Y\")\n",
    "        return {\"Day\": dt.day, \"Month\": dt.month, \"Year\": dt.year, \"Weekdays\": dt.strftime(\"%A\")}\n",
    "\n",
    "    def get_season_from_month(month):\n",
    "        if 3 <= month <= 5: return \"Spring\"\n",
    "        elif 6 <= month <= 8: return \"Summer\"\n",
    "        elif 9 <= month <= 11: return \"Autumn\"\n",
    "        else: return \"Winter\"\n",
    "\n",
    "    def season_to_Df(selected_season_val):\n",
    "        seasons_cols = ['Autumn', 'Spring', 'Summer', 'Winter']\n",
    "        seasons_data = np.zeros((1, len(seasons_cols)), dtype=\"int\")\n",
    "        df_seasons = pd.DataFrame(seasons_data, columns=seasons_cols)\n",
    "        if selected_season_val in seasons_cols:\n",
    "            df_seasons[selected_season_val] = 1\n",
    "        return df_seasons\n",
    "\n",
    "    def Day_to_Df(selected_weekday):\n",
    "        name_days = ['Friday', 'Monday', 'Saturday', 'Sunday', 'Thursday', 'Tuesday', 'Wednesday']\n",
    "        name_days_data = np.zeros((1, len(name_days)), dtype=\"int\")\n",
    "        df_days = pd.DataFrame(name_days_data, columns=name_days)\n",
    "        if selected_weekday in name_days:\n",
    "            df_days[selected_weekday] = 1\n",
    "        return df_days\n",
    "\n",
    "    date_time_data = get_string_to_datetime(date_str)\n",
    "\n",
    "    if season is None:\n",
    "        season = get_season_from_month(date_time_data[\"Month\"])\n",
    "\n",
    "    user_input_list = [\n",
    "        hour, Temperature, Humidity, Wind_speed, Visibility, Solar_Radiation, Rainfall, Snowfall,\n",
    "        holiday_dict.get(holiday_status, 0),\n",
    "        functioning_day_dict.get(functioning_day_status, 0),\n",
    "        date_time_data[\"Day\"], date_time_data[\"Month\"], date_time_data[\"Year\"]\n",
    "    ]\n",
    "\n",
    "    feature_name = [\n",
    "        'Hour', 'Temperature(°C)', 'Humidity(%)', 'Wind speed (m/s)', 'Visibility (10m)',\n",
    "        'Solar Radiation (MJ/m2)', 'Rainfall(mm)', 'Snowfall (cm)', 'Holiday', 'Functioning Day',\n",
    "        'Day', 'Month', 'Year'\n",
    "    ]\n",
    "\n",
    "    df_user_input = pd.DataFrame([user_input_list], columns=feature_name)\n",
    "    df_seasons = season_to_Df(season)\n",
    "    df_Weekdays = Day_to_Df(date_time_data[\"Weekdays\"])\n",
    "\n",
    "    df_user_pred = pd.concat([df_user_input, df_seasons, df_Weekdays], axis=1)\n",
    "\n",
    "    expected_feature_order = [\n",
    "        'Hour', 'Temperature(°C)', 'Humidity(%)', 'Wind speed (m/s)', 'Visibility (10m)',\n",
    "        'Solar Radiation (MJ/m2)', 'Rainfall(mm)', 'Snowfall (cm)', 'Holiday', 'Functioning Day',\n",
    "        'Day', 'Month', 'Year', 'Autumn', 'Spring', 'Summer', 'Winter', 'Friday', 'Monday',\n",
    "        'Saturday', 'Sunday', 'Thursday', 'Tuesday', 'Wednesday'\n",
    "    ]\n",
    "    df_user_pred = df_user_pred.reindex(columns=expected_feature_order, fill_value=0)\n",
    "\n",
    "    if SC is not None and model is not None:\n",
    "        sc_user_pred = SC.transform(df_user_pred)\n",
    "        prediction = model.predict(sc_user_pred).tolist()[0]\n",
    "        return round(prediction)\n",
    "    else:\n",
    "        print(\"Model or StandardScaler was not loaded correctly. Cannot predict.\")\n",
    "        return -1"
   ]
  },
  {
   "cell_type": "code",
   "execution_count": 7,
   "id": "1d161dde",
   "metadata": {},
   "outputs": [
    {
     "name": "stdout",
     "output_type": "stream",
     "text": [
      "Fetching live weather for 07/09/2025 at 8:00 (Seoul Time)...\n"
     ]
    },
    {
     "name": "stderr",
     "output_type": "stream",
     "text": [
      "C:\\Users\\Asus\\Anaconda3\\Lib\\site-packages\\sklearn\\base.py:442: InconsistentVersionWarning: Trying to unpickle estimator StandardScaler from version 1.2.2 when using version 1.7.1. This might lead to breaking code or invalid results. Use at your own risk. For more info please refer to:\n",
      "https://scikit-learn.org/stable/model_persistence.html#security-maintainability-limitations\n",
      "  warnings.warn(\n"
     ]
    },
    {
     "name": "stdout",
     "output_type": "stream",
     "text": [
      "\n",
      "--- Live Prediction for Seoul ---\n",
      "Date: 07/09/2025, Hour: 8:00 (Seoul Time)\n",
      "Predicted No. of Bikes Rented: 460\n"
     ]
    }
   ],
   "source": [
    "if __name__ == \"__main__\":\n",
    "    # Define the Seoul time zone\n",
    "    seoul_tz = pytz.timezone('Asia/Seoul')\n",
    "\n",
    "    # Get the current time in Seoul\n",
    "    seoul_current_time = datetime.now(seoul_tz)\n",
    "\n",
    "    # Extract date and hour from Seoul's current time\n",
    "    current_date_seoul = seoul_current_time.strftime(\"%d/%m/%Y\")\n",
    "    current_hour_seoul = seoul_current_time.hour # This correctly gets the hour component\n",
    "\n",
    "    print(f\"Fetching live weather for {current_date_seoul} at {current_hour_seoul}:00 (Seoul Time)...\")\n",
    "\n",
    "    predicted_bikes_live = predict_bike_demand(\n",
    "        date_str=current_date_seoul, # Use Seoul's current date\n",
    "        hour=current_hour_seoul,     # Use Seoul's current hour\n",
    "        weatherapi_com_api_key=\"b7d885329c5e4b149af64415252807\" # Your WeatherAPI.com key\n",
    "    )\n",
    "\n",
    "    if predicted_bikes_live != -1:\n",
    "        print(f\"\\n--- Live Prediction for Seoul ---\")\n",
    "        print(f\"Date: {current_date_seoul}, Hour: {current_hour_seoul}:00 (Seoul Time)\")\n",
    "        print(f\"Predicted No. of Bikes Rented: {predicted_bikes_live}\")\n",
    "    else:\n",
    "        print(\"\\nCould not make a live prediction.\")"
   ]
  },
  {
   "cell_type": "code",
   "execution_count": null,
   "id": "f02600b0",
   "metadata": {},
   "outputs": [],
   "source": []
  }
 ],
 "metadata": {
  "kernelspec": {
   "display_name": "Python 3 (ipykernel)",
   "language": "python",
   "name": "python3"
  },
  "language_info": {
   "codemirror_mode": {
    "name": "ipython",
    "version": 3
   },
   "file_extension": ".py",
   "mimetype": "text/x-python",
   "name": "python",
   "nbconvert_exporter": "python",
   "pygments_lexer": "ipython3",
   "version": "3.11.3"
  }
 },
 "nbformat": 4,
 "nbformat_minor": 5
}
